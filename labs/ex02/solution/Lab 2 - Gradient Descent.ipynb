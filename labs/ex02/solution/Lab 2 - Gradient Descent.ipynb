{
 "cells": [
  {
   "cell_type": "code",
   "execution_count": 1,
   "metadata": {
    "ExecuteTime": {
     "end_time": "2024-03-08T16:10:29.571817Z",
     "start_time": "2024-03-08T16:10:28.309491Z"
    }
   },
   "outputs": [],
   "source": [
    "# Useful starting lines\n",
    "%matplotlib inline\n",
    "import numpy as np\n",
    "import matplotlib.pyplot as plt\n",
    "%load_ext autoreload\n",
    "%autoreload 2"
   ]
  },
  {
   "cell_type": "markdown",
   "metadata": {},
   "source": [
    "# Load the data"
   ]
  },
  {
   "cell_type": "code",
   "execution_count": 2,
   "metadata": {
    "ExecuteTime": {
     "end_time": "2024-03-08T16:10:29.778479Z",
     "start_time": "2024-03-08T16:10:29.574761Z"
    }
   },
   "outputs": [],
   "source": [
    "import datetime\n",
    "from helpers import *\n",
    "\n",
    "height, weight, gender = load_data(sub_sample=False, add_outlier=False)\n",
    "x, mean_x, std_x = standardize(height)\n",
    "b, A = build_model_data(x, weight)"
   ]
  },
  {
   "cell_type": "code",
   "execution_count": 3,
   "metadata": {
    "ExecuteTime": {
     "end_time": "2024-03-08T16:10:29.869622Z",
     "start_time": "2024-03-08T16:10:29.782615Z"
    }
   },
   "outputs": [
    {
     "name": "stdout",
     "output_type": "stream",
     "text": [
      "Number of samples n =  10000\n",
      "Dimension of each sample d =  2\n"
     ]
    }
   ],
   "source": [
    "print('Number of samples n = ', b.shape[0])\n",
    "print('Dimension of each sample d = ', A.shape[1])"
   ]
  },
  {
   "cell_type": "markdown",
   "metadata": {},
   "source": [
    "\n",
    "# Least Squares Estimation\n",
    "Least squares estimation is one of the fundamental machine learning algorithms. Given an $ n \\times d $ matrix $A$ and a $ n \\times 1$ vector $b$, the goal is to find a vector $x \\in \\mathbb{R}^d$ which minimizes the objective function $$f(x) = \\frac{1}{2n} \\sum_{i=1}^{n} (a_i^\\top x - b_i)^2 = \\frac{1}{2n} \\|Ax - b\\|^2 $$\n",
    "\n",
    "In this exercise, we will try to fit $x$ using Least Squares Estimation. \n",
    "\n",
    "One can see the function is $L$ smooth with $L =\\frac1n\\|A^T A\\|  = \\frac1n\\|A\\|^2$ (Lemma 2.3 for the first equality, and a few manipulations for the second)."
   ]
  },
  {
   "cell_type": "markdown",
   "metadata": {},
   "source": [
    "# Computing the Objective Function\n",
    "Fill in the `calculate_objective` function below:"
   ]
  },
  {
   "cell_type": "code",
   "execution_count": 4,
   "metadata": {
    "ExecuteTime": {
     "end_time": "2024-03-08T16:10:33.027250Z",
     "start_time": "2024-03-08T16:10:31.827919Z"
    }
   },
   "outputs": [],
   "source": [
    "def calculate_objective(Axmb):\n",
    "    \"\"\"Calculate the mean squared error for vector Axmb = Ax - b.\"\"\"\n",
    "    return 1/2*np.mean(Axmb**2)"
   ]
  },
  {
   "cell_type": "markdown",
   "metadata": {},
   "source": [
    "# Compute smoothness constant $L$"
   ]
  },
  {
   "cell_type": "markdown",
   "metadata": {},
   "source": [
    "To compute the spectral norm of A you can use np.linalg.norm(A, 2)"
   ]
  },
  {
   "cell_type": "code",
   "execution_count": 5,
   "metadata": {
    "ExecuteTime": {
     "end_time": "2024-03-08T16:11:51.619417Z",
     "start_time": "2024-03-08T16:11:51.476170Z"
    }
   },
   "outputs": [],
   "source": [
    "def calculate_L(b, A):\n",
    "    \"\"\"Calculate the smoothness constant for f\"\"\"\n",
    "    eig = np.linalg.eigvals(A.T.dot(A))\n",
    "    L = max(eig)/(A.shape[0])           # same as doing np.linalg.norm(A.T.dot(A), 2) / (A.shape[0])     \n",
    "    return L"
   ]
  },
  {
   "cell_type": "markdown",
   "metadata": {},
   "source": [
    "# Gradient Descent"
   ]
  },
  {
   "cell_type": "markdown",
   "metadata": {},
   "source": [
    "Please fill in the functions `compute_gradient` below:"
   ]
  },
  {
   "cell_type": "code",
   "execution_count": 6,
   "metadata": {
    "ExecuteTime": {
     "end_time": "2024-03-08T16:11:53.874139Z",
     "start_time": "2024-03-08T16:11:53.790709Z"
    }
   },
   "outputs": [],
   "source": [
    "def compute_gradient(b, A, x):\n",
    "    \"\"\"Compute the gradient.\"\"\"\n",
    "    Axmb = A.dot(x) - b\n",
    "    grad = A.T.dot(Axmb) / len(Axmb)\n",
    "    return grad, Axmb"
   ]
  },
  {
   "cell_type": "markdown",
   "metadata": {},
   "source": [
    "Please fill in the functions `gradient_descent` below:"
   ]
  },
  {
   "cell_type": "code",
   "execution_count": 7,
   "metadata": {
    "ExecuteTime": {
     "end_time": "2024-03-08T16:12:17.496241Z",
     "start_time": "2024-03-08T16:12:17.378684Z"
    }
   },
   "outputs": [],
   "source": [
    "def gradient_descent(b, A, initial_x, max_iters, gamma):\n",
    "    \"\"\"Gradient descent algorithm.\"\"\"\n",
    "    # Define parameters to store x and objective func. values\n",
    "    xs = [initial_x]\n",
    "    objectives = []\n",
    "    x = initial_x\n",
    "    for n_iter in range(max_iters):\n",
    "        # compute objective, gradient\n",
    "        grad, Axmb = compute_gradient(b, A, x)\n",
    "        obj = calculate_objective(Axmb)\n",
    "        # update x by a gradient descent step\n",
    "        x = x - gamma * grad\n",
    "        # store x and objective function value\n",
    "        xs.append(x)\n",
    "        objectives.append(obj)\n",
    "        print(\"Gradient Descent({bi}/{ti}): objective={l}\".format(\n",
    "              bi=n_iter, ti=max_iters - 1, l=obj))\n",
    "\n",
    "    return objectives, xs"
   ]
  },
  {
   "cell_type": "markdown",
   "metadata": {},
   "source": [
    "Test your gradient descent function with a naive step size through gradient descent demo shown below:"
   ]
  },
  {
   "cell_type": "code",
   "execution_count": 8,
   "metadata": {
    "ExecuteTime": {
     "end_time": "2024-03-08T16:12:21.498127Z",
     "start_time": "2024-03-08T16:12:21.324242Z"
    }
   },
   "outputs": [
    {
     "name": "stdout",
     "output_type": "stream",
     "text": [
      "Gradient Descent(0/49): objective=2792.2367127591674\n",
      "Gradient Descent(1/49): objective=2264.635056030003\n",
      "Gradient Descent(2/49): objective=1837.2777140793794\n",
      "Gradient Descent(3/49): objective=1491.118267099375\n",
      "Gradient Descent(4/49): objective=1210.7291150455712\n",
      "Gradient Descent(5/49): objective=983.6139018819906\n",
      "Gradient Descent(6/49): objective=799.6505792194903\n",
      "Gradient Descent(7/49): objective=650.6402878628647\n",
      "Gradient Descent(8/49): objective=529.9419518639979\n",
      "Gradient Descent(9/49): objective=432.176299704916\n",
      "Gradient Descent(10/49): objective=352.9861214560597\n",
      "Gradient Descent(11/49): objective=288.842077074486\n",
      "Gradient Descent(12/49): objective=236.88540112541122\n",
      "Gradient Descent(13/49): objective=194.80049360666067\n",
      "Gradient Descent(14/49): objective=160.71171851647273\n",
      "Gradient Descent(15/49): objective=133.09981069342055\n",
      "Gradient Descent(16/49): objective=110.73416535674828\n",
      "Gradient Descent(17/49): objective=92.61799263404367\n",
      "Gradient Descent(18/49): objective=77.943892728653\n",
      "Gradient Descent(19/49): objective=66.05787180528654\n",
      "Gradient Descent(20/49): objective=56.430194857359716\n",
      "Gradient Descent(21/49): objective=48.63177652953898\n",
      "Gradient Descent(22/49): objective=42.315057684004195\n",
      "Gradient Descent(23/49): objective=37.19851541912101\n",
      "Gradient Descent(24/49): objective=33.054116184565615\n",
      "Gradient Descent(25/49): objective=29.69715280457577\n",
      "Gradient Descent(26/49): objective=26.978012466783984\n",
      "Gradient Descent(27/49): objective=24.775508793172605\n",
      "Gradient Descent(28/49): objective=22.99148081754737\n",
      "Gradient Descent(29/49): objective=21.546418157290944\n",
      "Gradient Descent(30/49): objective=20.375917402483257\n",
      "Gradient Descent(31/49): objective=19.42781179108901\n",
      "Gradient Descent(32/49): objective=18.659846245859693\n",
      "Gradient Descent(33/49): objective=18.037794154223942\n",
      "Gradient Descent(34/49): objective=17.53393195999899\n",
      "Gradient Descent(35/49): objective=17.125803582676767\n",
      "Gradient Descent(36/49): objective=16.795219597045776\n",
      "Gradient Descent(37/49): objective=16.527446568684663\n",
      "Gradient Descent(38/49): objective=16.310550415712164\n",
      "Gradient Descent(39/49): objective=16.134864531804435\n",
      "Gradient Descent(40/49): objective=15.992558965839178\n",
      "Gradient Descent(41/49): objective=15.877291457407319\n",
      "Gradient Descent(42/49): objective=15.783924775577509\n",
      "Gradient Descent(43/49): objective=15.70829776329537\n",
      "Gradient Descent(44/49): objective=15.647039883346832\n",
      "Gradient Descent(45/49): objective=15.597421000588525\n",
      "Gradient Descent(46/49): objective=15.557229705554294\n",
      "Gradient Descent(47/49): objective=15.52467475657656\n",
      "Gradient Descent(48/49): objective=15.498305247904602\n",
      "Gradient Descent(49/49): objective=15.476945945880312\n",
      "Gradient Descent: execution time=0.101 seconds\n"
     ]
    }
   ],
   "source": [
    "# from gradient_descent import *\n",
    "from plots import gradient_descent_visualization\n",
    "\n",
    "# Define the parameters of the algorithm.\n",
    "max_iters = 50\n",
    "\n",
    "gamma = 0.1\n",
    "\n",
    "# Initialization\n",
    "x_initial = np.zeros(A.shape[1])\n",
    "\n",
    "# Start gradient descent.\n",
    "start_time = datetime.datetime.now()\n",
    "gradient_objectives_naive, gradient_xs_naive = gradient_descent(b, A, x_initial, max_iters, gamma)\n",
    "end_time = datetime.datetime.now()\n",
    "\n",
    "# Print result\n",
    "exection_time = (end_time - start_time).total_seconds()\n",
    "print(\"Gradient Descent: execution time={t:.3f} seconds\".format(t=exection_time))"
   ]
  },
  {
   "cell_type": "markdown",
   "metadata": {},
   "source": [
    "Time Visualization"
   ]
  },
  {
   "cell_type": "code",
   "execution_count": 9,
   "metadata": {
    "scrolled": false,
    "ExecuteTime": {
     "end_time": "2024-03-08T16:12:49.829755Z",
     "start_time": "2024-03-08T16:12:46.467324Z"
    }
   },
   "outputs": [
    {
     "data": {
      "text/plain": "interactive(children=(IntSlider(value=1, description='n_iter', max=51, min=1), Output()), _dom_classes=('widge…",
      "application/vnd.jupyter.widget-view+json": {
       "version_major": 2,
       "version_minor": 0,
       "model_id": "d6234b32039848a5898e0044d6faeb64"
      }
     },
     "metadata": {},
     "output_type": "display_data"
    },
    {
     "data": {
      "text/plain": "<function __main__.plot_figure(n_iter)>"
     },
     "execution_count": 9,
     "metadata": {},
     "output_type": "execute_result"
    }
   ],
   "source": [
    "from ipywidgets import IntSlider, interact\n",
    "from grid_search import *\n",
    "\n",
    "def plot_figure(n_iter):\n",
    "    # Generate grid data for visualization (parameters to be swept and best combination)\n",
    "    grid_x0, grid_x1 = generate_w(num_intervals=10)\n",
    "    grid_objectives = grid_search(b, A, grid_x0, grid_x1)\n",
    "    obj_star, x0_star, x1_star = get_best_parameters(grid_x0, grid_x1, grid_objectives)\n",
    "    \n",
    "    fig = gradient_descent_visualization(\n",
    "        gradient_objectives_naive, gradient_xs_naive, grid_objectives, grid_x0, grid_x1, mean_x, std_x, height, weight, n_iter)\n",
    "    fig.set_size_inches(10.0, 6.0)\n",
    "\n",
    "interact(plot_figure, n_iter=IntSlider(min=1, max=len(gradient_xs_naive)))"
   ]
  },
  {
   "cell_type": "markdown",
   "metadata": {},
   "source": [
    "Try doing gradient descent with a better learning rate"
   ]
  },
  {
   "cell_type": "code",
   "execution_count": 10,
   "metadata": {
    "ExecuteTime": {
     "end_time": "2024-03-08T16:13:36.948617Z",
     "start_time": "2024-03-08T16:13:36.789616Z"
    }
   },
   "outputs": [
    {
     "name": "stdout",
     "output_type": "stream",
     "text": [
      "Gradient Descent(0/49): objective=2792.2367127591674\n",
      "Gradient Descent(1/49): objective=15.3858878688294\n",
      "Gradient Descent(2/49): objective=15.3858878688294\n",
      "Gradient Descent(3/49): objective=15.3858878688294\n",
      "Gradient Descent(4/49): objective=15.3858878688294\n",
      "Gradient Descent(5/49): objective=15.3858878688294\n",
      "Gradient Descent(6/49): objective=15.3858878688294\n",
      "Gradient Descent(7/49): objective=15.3858878688294\n",
      "Gradient Descent(8/49): objective=15.3858878688294\n",
      "Gradient Descent(9/49): objective=15.3858878688294\n",
      "Gradient Descent(10/49): objective=15.3858878688294\n",
      "Gradient Descent(11/49): objective=15.3858878688294\n",
      "Gradient Descent(12/49): objective=15.3858878688294\n",
      "Gradient Descent(13/49): objective=15.3858878688294\n",
      "Gradient Descent(14/49): objective=15.3858878688294\n",
      "Gradient Descent(15/49): objective=15.3858878688294\n",
      "Gradient Descent(16/49): objective=15.3858878688294\n",
      "Gradient Descent(17/49): objective=15.3858878688294\n",
      "Gradient Descent(18/49): objective=15.3858878688294\n",
      "Gradient Descent(19/49): objective=15.3858878688294\n",
      "Gradient Descent(20/49): objective=15.3858878688294\n",
      "Gradient Descent(21/49): objective=15.3858878688294\n",
      "Gradient Descent(22/49): objective=15.3858878688294\n",
      "Gradient Descent(23/49): objective=15.3858878688294\n",
      "Gradient Descent(24/49): objective=15.3858878688294\n",
      "Gradient Descent(25/49): objective=15.3858878688294\n",
      "Gradient Descent(26/49): objective=15.3858878688294\n",
      "Gradient Descent(27/49): objective=15.3858878688294\n",
      "Gradient Descent(28/49): objective=15.3858878688294\n",
      "Gradient Descent(29/49): objective=15.3858878688294\n",
      "Gradient Descent(30/49): objective=15.3858878688294\n",
      "Gradient Descent(31/49): objective=15.3858878688294\n",
      "Gradient Descent(32/49): objective=15.3858878688294\n",
      "Gradient Descent(33/49): objective=15.3858878688294\n",
      "Gradient Descent(34/49): objective=15.3858878688294\n",
      "Gradient Descent(35/49): objective=15.3858878688294\n",
      "Gradient Descent(36/49): objective=15.3858878688294\n",
      "Gradient Descent(37/49): objective=15.3858878688294\n",
      "Gradient Descent(38/49): objective=15.3858878688294\n",
      "Gradient Descent(39/49): objective=15.3858878688294\n",
      "Gradient Descent(40/49): objective=15.3858878688294\n",
      "Gradient Descent(41/49): objective=15.3858878688294\n",
      "Gradient Descent(42/49): objective=15.3858878688294\n",
      "Gradient Descent(43/49): objective=15.3858878688294\n",
      "Gradient Descent(44/49): objective=15.3858878688294\n",
      "Gradient Descent(45/49): objective=15.3858878688294\n",
      "Gradient Descent(46/49): objective=15.3858878688294\n",
      "Gradient Descent(47/49): objective=15.3858878688294\n",
      "Gradient Descent(48/49): objective=15.3858878688294\n",
      "Gradient Descent(49/49): objective=15.3858878688294\n",
      "Gradient Descent: execution time=0.043 seconds\n"
     ]
    }
   ],
   "source": [
    "# Define the parameters of the algorithm.\n",
    "max_iters = 50\n",
    "\n",
    "L = calculate_L(b, A)\n",
    "gamma = 1/L\n",
    "\n",
    "# Initialization\n",
    "x_initial = np.zeros(A.shape[1])\n",
    "\n",
    "# Start gradient descent.\n",
    "start_time = datetime.datetime.now()\n",
    "gradient_objectives, gradient_xs = gradient_descent(b, A, x_initial, max_iters, gamma)\n",
    "end_time = datetime.datetime.now()\n",
    "\n",
    "# Print result\n",
    "exection_time = (end_time - start_time).total_seconds()\n",
    "print(\"Gradient Descent: execution time={t:.3f} seconds\".format(t=exection_time))"
   ]
  },
  {
   "cell_type": "markdown",
   "metadata": {},
   "source": [
    "We get a faster execution time\n",
    "\n",
    "Time visualization with a better learning rate"
   ]
  },
  {
   "cell_type": "code",
   "execution_count": 11,
   "metadata": {
    "ExecuteTime": {
     "end_time": "2024-03-08T16:14:13.313849Z",
     "start_time": "2024-03-08T16:14:12.784422Z"
    }
   },
   "outputs": [
    {
     "data": {
      "text/plain": "interactive(children=(IntSlider(value=1, description='n_iter', max=51, min=1), Output()), _dom_classes=('widge…",
      "application/vnd.jupyter.widget-view+json": {
       "version_major": 2,
       "version_minor": 0,
       "model_id": "8336ae18bca94e388ef052953159f2d6"
      }
     },
     "metadata": {},
     "output_type": "display_data"
    },
    {
     "data": {
      "text/plain": "<function __main__.plot_figure(n_iter)>"
     },
     "execution_count": 11,
     "metadata": {},
     "output_type": "execute_result"
    }
   ],
   "source": [
    "def plot_figure(n_iter):\n",
    "    # Generate grid data for visualization (parameters to be swept and best combination)\n",
    "    grid_x0, grid_x1 = generate_w(num_intervals=10)\n",
    "    grid_objectives = grid_search(b, A, grid_x0, grid_x1)\n",
    "    obj_star, x0_star, x1_star = get_best_parameters(grid_x0, grid_x1, grid_objectives)\n",
    "    \n",
    "    fig = gradient_descent_visualization(\n",
    "        gradient_objectives, gradient_xs, grid_objectives, grid_x0, grid_x1, mean_x, std_x, height, weight, n_iter)\n",
    "    fig.set_size_inches(10.0, 6.0)\n",
    "\n",
    "interact(plot_figure, n_iter=IntSlider(min=1, max=len(gradient_xs)))"
   ]
  },
  {
   "cell_type": "markdown",
   "metadata": {},
   "source": [
    "# Loading more complex data\n",
    "The data is taken from https://archive.ics.uci.edu/ml/datasets/Concrete+Compressive+Strength "
   ]
  },
  {
   "cell_type": "code",
   "execution_count": 12,
   "metadata": {
    "ExecuteTime": {
     "end_time": "2024-03-08T16:14:25.484614Z",
     "start_time": "2024-03-08T16:14:25.366479Z"
    }
   },
   "outputs": [],
   "source": [
    "data = np.loadtxt(\"Concrete_Data.csv\",delimiter=\",\")\n",
    "\n",
    "A = data[:,:-1]\n",
    "b = data[:,-1]\n",
    "A, mean_A, std_A = standardize(A)"
   ]
  },
  {
   "cell_type": "code",
   "execution_count": 13,
   "metadata": {
    "ExecuteTime": {
     "end_time": "2024-03-08T16:14:26.428033Z",
     "start_time": "2024-03-08T16:14:26.311145Z"
    }
   },
   "outputs": [
    {
     "name": "stdout",
     "output_type": "stream",
     "text": [
      "Number of samples n =  1030\n",
      "Dimension of each sample d =  8\n"
     ]
    }
   ],
   "source": [
    "print('Number of samples n = ', b.shape[0])\n",
    "print('Dimension of each sample d = ', A.shape[1])"
   ]
  },
  {
   "cell_type": "markdown",
   "metadata": {},
   "source": [
    "# Running gradient descent"
   ]
  },
  {
   "cell_type": "markdown",
   "metadata": {},
   "source": [
    "## Assuming bounded gradients\n",
    "Assume we are moving in a bounded region $\\|x\\| \\leq 25$ containing all iterates (and we assume $\\|x-x^\\star\\| \\leq 25$ as well, for simplicity). Then by $\\nabla f(x) = \\frac{1}{n}A^\\top (Ax - b)$, one can see that $f$ is Lipschitz over that bounded region, with Lipschitz constant $\\|\\nabla f(x)\\| \\leq \\frac{1}{n} (\\|A^\\top A\\|\\|x\\| + \\|A^\\top b\\|)$"
   ]
  },
  {
   "cell_type": "code",
   "execution_count": 14,
   "metadata": {
    "ExecuteTime": {
     "end_time": "2024-03-08T16:14:30.774111Z",
     "start_time": "2024-03-08T16:14:30.546369Z"
    }
   },
   "outputs": [
    {
     "data": {
      "text/plain": "98.66209327259453"
     },
     "execution_count": 14,
     "metadata": {},
     "output_type": "execute_result"
    }
   ],
   "source": [
    "grad_norm_bound = (25*np.linalg.norm(np.dot(A.T,A)) + np.linalg.norm(np.dot(A.T,b)))/A.shape[0]\n",
    "grad_norm_bound"
   ]
  },
  {
   "cell_type": "markdown",
   "metadata": {},
   "source": [
    "Fill in the learning rate assuming bounded gradients"
   ]
  },
  {
   "cell_type": "code",
   "execution_count": 15,
   "metadata": {
    "ExecuteTime": {
     "end_time": "2024-03-08T16:14:32.813824Z",
     "start_time": "2024-03-08T16:14:32.713433Z"
    }
   },
   "outputs": [
    {
     "name": "stdout",
     "output_type": "stream",
     "text": [
      "Gradient Descent(0/49): objective=780.8686016504854\n",
      "Gradient Descent(1/49): objective=774.4313276862508\n",
      "Gradient Descent(2/49): objective=768.5337098080474\n",
      "Gradient Descent(3/49): objective=763.1283733311029\n",
      "Gradient Descent(4/49): objective=758.1722464988205\n",
      "Gradient Descent(5/49): objective=753.626157458017\n",
      "Gradient Descent(6/49): objective=749.4544702154914\n",
      "Gradient Descent(7/49): objective=745.6247556604571\n",
      "Gradient Descent(8/49): objective=742.1074941494887\n",
      "Gradient Descent(9/49): objective=738.8758065168346\n",
      "Gradient Descent(10/49): objective=735.9052106986934\n",
      "Gradient Descent(11/49): objective=733.1734014501008\n",
      "Gradient Descent(12/49): objective=730.6600508915816\n",
      "Gradient Descent(13/49): objective=728.346627853362\n",
      "Gradient Descent(14/49): objective=726.2162341908602\n",
      "Gradient Descent(15/49): objective=724.2534564292371\n",
      "Gradient Descent(16/49): objective=722.4442312594081\n",
      "Gradient Descent(17/49): objective=720.7757235552962\n",
      "Gradient Descent(18/49): objective=719.2362157141332\n",
      "Gradient Descent(19/49): objective=717.8150072399927\n",
      "Gradient Descent(20/49): objective=716.5023235969362\n",
      "Gradient Descent(21/49): objective=715.2892334535042\n",
      "Gradient Descent(22/49): objective=714.1675735259378\n",
      "Gradient Descent(23/49): objective=713.1298803045223\n",
      "Gradient Descent(24/49): objective=712.1693280166955\n",
      "Gradient Descent(25/49): objective=711.2796722428958\n",
      "Gradient Descent(26/49): objective=710.4551986572515\n",
      "Gradient Descent(27/49): objective=709.6906764157699\n",
      "Gradient Descent(28/49): objective=708.98131576026\n",
      "Gradient Descent(29/49): objective=708.32272944732\n",
      "Gradient Descent(30/49): objective=707.7108976487891\n",
      "Gradient Descent(31/49): objective=707.1421360035325\n",
      "Gradient Descent(32/49): objective=706.613066530628\n",
      "Gradient Descent(33/49): objective=706.1205911413172\n",
      "Gradient Descent(34/49): objective=705.6618675117395\n",
      "Gradient Descent(35/49): objective=705.2342871007447\n",
      "Gradient Descent(36/49): objective=704.8354551172382\n",
      "Gradient Descent(37/49): objective=704.4631722597288\n",
      "Gradient Descent(38/49): objective=704.1154180672427\n",
      "Gradient Descent(39/49): objective=703.790335735683\n",
      "Gradient Descent(40/49): objective=703.4862182672251\n",
      "Gradient Descent(41/49): objective=703.2014958325636\n",
      "Gradient Descent(42/49): objective=702.9347242369095\n",
      "Gradient Descent(43/49): objective=702.6845743906633\n",
      "Gradient Descent(44/49): objective=702.4498226947926\n",
      "Gradient Descent(45/49): objective=702.2293422591738\n",
      "Gradient Descent(46/49): objective=702.0220948796361\n",
      "Gradient Descent(47/49): objective=701.8271237062208\n",
      "Gradient Descent(48/49): objective=701.6435465413084\n",
      "Gradient Descent(49/49): objective=701.4705497118428\n",
      "Gradient Descent: execution time=0.008 seconds\n"
     ]
    }
   ],
   "source": [
    "max_iters = 50\n",
    "gamma = 25/(grad_norm_bound*np.sqrt(max_iters))\n",
    "\n",
    "# Initialization\n",
    "x_initial = np.zeros(A.shape[1])\n",
    "\n",
    "# Start gradient descent.\n",
    "start_time = datetime.datetime.now()\n",
    "bd_gradient_objectives, bd_gradient_xs = gradient_descent(b, A, x_initial, max_iters, gamma)\n",
    "end_time = datetime.datetime.now()\n",
    "\n",
    "\n",
    "# Print result\n",
    "exection_time = (end_time - start_time).total_seconds()\n",
    "print(\"Gradient Descent: execution time={t:.3f} seconds\".format(t=exection_time))\n",
    "\n",
    "# Averaging the iterates as is the case for bounded gradients case\n",
    "bd_gradient_objectives_averaged = []\n",
    "for i in range(len(bd_gradient_xs)):\n",
    "    if i > 0:\n",
    "        bd_gradient_xs[i] = (i * bd_gradient_xs[i-1] + bd_gradient_xs[i])/(i + 1)\n",
    "    grad, err = compute_gradient(b, A, bd_gradient_xs[i])\n",
    "    obj = calculate_objective(err)\n",
    "    bd_gradient_objectives_averaged.append(obj)"
   ]
  },
  {
   "cell_type": "markdown",
   "metadata": {},
   "source": [
    "## Gradient descent using smoothness\n",
    "Fill in the learning rate using smoothness of the function"
   ]
  },
  {
   "cell_type": "code",
   "execution_count": 16,
   "metadata": {
    "ExecuteTime": {
     "end_time": "2024-03-08T16:14:39.689562Z",
     "start_time": "2024-03-08T16:14:39.576659Z"
    }
   },
   "outputs": [
    {
     "name": "stdout",
     "output_type": "stream",
     "text": [
      "Gradient Descent(0/49): objective=780.8686016504854\n",
      "Gradient Descent(1/49): objective=721.5052560260676\n",
      "Gradient Descent(2/49): objective=706.7843584315374\n",
      "Gradient Descent(3/49): objective=702.1659603718193\n",
      "Gradient Descent(4/49): objective=700.3195706210596\n",
      "Gradient Descent(5/49): objective=699.3927282552015\n",
      "Gradient Descent(6/49): objective=698.8265138747603\n",
      "Gradient Descent(7/49): objective=698.4252460378514\n",
      "Gradient Descent(8/49): objective=698.1121802865196\n",
      "Gradient Descent(9/49): objective=697.8540419775695\n",
      "Gradient Descent(10/49): objective=697.6346924802035\n",
      "Gradient Descent(11/49): objective=697.4451956987403\n",
      "Gradient Descent(12/49): objective=697.2798771098778\n",
      "Gradient Descent(13/49): objective=697.134694345026\n",
      "Gradient Descent(14/49): objective=697.0065306304227\n",
      "Gradient Descent(15/49): objective=696.8928669366339\n",
      "Gradient Descent(16/49): objective=696.7916143488984\n",
      "Gradient Descent(17/49): objective=696.7010172175321\n",
      "Gradient Descent(18/49): objective=696.6195897256094\n",
      "Gradient Descent(19/49): objective=696.5460698345364\n",
      "Gradient Descent(20/49): objective=696.4793834248536\n",
      "Gradient Descent(21/49): objective=696.4186151939681\n",
      "Gradient Descent(22/49): objective=696.3629844974911\n",
      "Gradient Descent(23/49): objective=696.3118250564794\n",
      "Gradient Descent(24/49): objective=696.2645678090805\n",
      "Gradient Descent(25/49): objective=696.220726375205\n",
      "Gradient Descent(26/49): objective=696.1798847171166\n",
      "Gradient Descent(27/49): objective=696.141686656003\n",
      "Gradient Descent(28/49): objective=696.105826961754\n",
      "Gradient Descent(29/49): objective=696.0720437782061\n",
      "Gradient Descent(30/49): objective=696.0401121828639\n",
      "Gradient Descent(31/49): objective=696.0098387107206\n",
      "Gradient Descent(32/49): objective=695.9810566975378\n",
      "Gradient Descent(33/49): objective=695.9536223197188\n",
      "Gradient Descent(34/49): objective=695.92741122636\n",
      "Gradient Descent(35/49): objective=695.9023156747344\n",
      "Gradient Descent(36/49): objective=695.87824209377\n",
      "Gradient Descent(37/49): objective=695.8551090113991\n",
      "Gradient Descent(38/49): objective=695.8328452912637\n",
      "Gradient Descent(39/49): objective=695.8113886324363\n",
      "Gradient Descent(40/49): objective=695.7906842927656\n",
      "Gradient Descent(41/49): objective=695.7706840023488\n",
      "Gradient Descent(42/49): objective=695.7513450386715\n",
      "Gradient Descent(43/49): objective=695.7326294392002\n",
      "Gradient Descent(44/49): objective=695.714503330864\n",
      "Gradient Descent(45/49): objective=695.6969363589233\n",
      "Gradient Descent(46/49): objective=695.6799012003625\n",
      "Gradient Descent(47/49): objective=695.6633731491596\n",
      "Gradient Descent(48/49): objective=695.6473297626893\n",
      "Gradient Descent(49/49): objective=695.6317505601199\n",
      "Gradient Descent: execution time=0.009 seconds\n"
     ]
    }
   ],
   "source": [
    "max_iters = 50\n",
    "L = calculate_L(b, A)\n",
    "gamma = 1/L\n",
    "\n",
    "# Initialization\n",
    "x_initial = np.zeros(A.shape[1])\n",
    "\n",
    "# Start gradient descent.\n",
    "start_time = datetime.datetime.now()\n",
    "gradient_objectives, gradient_xs = gradient_descent(b, A, x_initial, max_iters, gamma)\n",
    "end_time = datetime.datetime.now()\n",
    "\n",
    "# Print result\n",
    "exection_time = (end_time - start_time).total_seconds()\n",
    "print(\"Gradient Descent: execution time={t:.3f} seconds\".format(t=exection_time))"
   ]
  },
  {
   "cell_type": "markdown",
   "metadata": {},
   "source": [
    "## Plotting the Evolution of the Objective Function"
   ]
  },
  {
   "cell_type": "code",
   "execution_count": 17,
   "metadata": {
    "ExecuteTime": {
     "end_time": "2024-03-08T16:14:42.085377Z",
     "start_time": "2024-03-08T16:14:41.700964Z"
    }
   },
   "outputs": [
    {
     "data": {
      "text/plain": "<Figure size 800x800 with 1 Axes>",
      "image/png": "[encoded data removed]"
     },
     "metadata": {},
     "output_type": "display_data"
    }
   ],
   "source": [
    "plt.figure(figsize=(8, 8))\n",
    "plt.xlabel('Number of steps')\n",
    "plt.ylabel('Objective Function')\n",
    "#plt.yscale(\"log\")\n",
    "plt.plot(range(len(gradient_objectives)), gradient_objectives,'r', label='gradient descent with 1/L stepsize')\n",
    "plt.plot(range(len(bd_gradient_objectives)), bd_gradient_objectives,'b', label='gradient descent assuming bounded gradients')\n",
    "plt.plot(range(len(bd_gradient_objectives_averaged)), bd_gradient_objectives_averaged,'g', label='gradient descent assuming bounded gradients with averaged iterates')\n",
    "plt.legend(loc='upper right')\n",
    "plt.show()"
   ]
  },
  {
   "cell_type": "markdown",
   "source": [
    "The result with $\\gamma=1/L$ is better than the one with $\\gamma=25/(L\\sqrt{max\\_iters})$ and the one with averaged iterates. This is expected as the function is $L$ smooth."
   ],
   "metadata": {
    "collapsed": false
   }
  }
 ],
 "metadata": {
  "anaconda-cloud": {},
  "kernelspec": {
   "display_name": "Python 3",
   "language": "python",
   "name": "python3"
  },
  "language_info": {
   "codemirror_mode": {
    "name": "ipython",
    "version": 3
   },
   "file_extension": ".py",
   "mimetype": "text/x-python",
   "name": "python",
   "nbconvert_exporter": "python",
   "pygments_lexer": "ipython3",
   "version": "3.7.4"
  },
  "widgets": {
   "state": {
    "d2b2c3aea192430e81437f33ba0b0e69": {
     "views": [
      {
       "cell_index": 22
      }
     ]
    },
    "e4a6a7a70ccd42ddb112989c04f2ed3f": {
     "views": [
      {
       "cell_index": 18
      }
     ]
    }
   },
   "version": "1.2.0"
  }
 },
 "nbformat": 4,
 "nbformat_minor": 1
}
