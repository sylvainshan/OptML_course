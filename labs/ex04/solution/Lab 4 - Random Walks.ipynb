{
 "cells": [
  {
   "cell_type": "code",
   "execution_count": 1,
   "metadata": {
    "collapsed": true
   },
   "outputs": [],
   "source": [
    "# Useful starting lines\n",
    "%matplotlib inline\n",
    "import numpy as np\n",
    "import matplotlib.pyplot as plt\n",
    "from helpers import *\n",
    "%load_ext autoreload\n",
    "%autoreload 2"
   ]
  },
  {
   "cell_type": "markdown",
   "metadata": {},
   "source": [
    "# Random Walks"
   ]
  },
  {
   "cell_type": "markdown",
   "metadata": {},
   "source": [
    "In this exercise you will implement a simple random walk on a torus graph and will check its convergence to uniform distribution.\n",
    "\n",
    "Torus is a 2D-grid graph and looks like a 'doughnout', as shown in the picture below. \n",
    "<img src=\"torus_topology.png\" alt=\"Drawing\" style=\"width: 200px;\"/>"
   ]
  },
  {
   "cell_type": "markdown",
   "metadata": {},
   "source": [
    "**Note:** We will use the networkx library to generate our graph. You can install this using\n",
    "\n",
    "```bash\n",
    "    pip3 install --upgrade --user networkx\n",
    "```\n",
    "\n",
    "Let's generate the probability matrix $\\mathbf{G}$ of a torus graph of size $4\\times 4$, note that we include self-loops too. You can play around with the code in the helpers.py to generate different graphs."
   ]
  },
  {
   "cell_type": "code",
   "execution_count": 23,
   "metadata": {
    "collapsed": true
   },
   "outputs": [],
   "source": [
    "n_nodes = 25\n",
    "A = generate_torus_adj_matrix(n_nodes)\n",
    "G = A/5"
   ]
  },
  {
   "cell_type": "markdown",
   "metadata": {},
   "source": [
    "Lets now implement random walk on a torus."
   ]
  },
  {
   "cell_type": "code",
   "execution_count": 24,
   "metadata": {
    "collapsed": true
   },
   "outputs": [],
   "source": [
    "def random_walk(G, num_iter):\n",
    "    ''' Performs num_iter steps of a random walk on a graph with graph matrix G,\n",
    "        starting from the initial position at node 1.\n",
    "        Output:\n",
    "        positions: an array of integer positions in a graph at each iteration\n",
    "    '''\n",
    "    pos = 0\n",
    "    positions = [pos]\n",
    "    for t in range(0, num_iter):\n",
    "        pos = np.random.choice(np.nonzero(G[pos])[0])\n",
    "        positions.append(pos)\n",
    "    return positions"
   ]
  },
  {
   "cell_type": "markdown",
   "metadata": {},
   "source": [
    "Now we will estimate probability distribution at each iteration. For this we will perform random walk on a graph 100 times and calculate how frequently we visited each node at each iteration."
   ]
  },
  {
   "cell_type": "code",
   "execution_count": 25,
   "metadata": {
    "collapsed": true
   },
   "outputs": [],
   "source": [
    "num_iter = 15\n",
    "num_repeat = 100 * 1000\n",
    "frequencies = np.zeros((num_iter + 1, n_nodes))\n",
    "for _ in range(num_repeat):\n",
    "    positions = random_walk(G, num_iter)\n",
    "    frequencies[np.arange(len(positions)), np.array(positions)] += 1\n",
    "frequencies /= num_repeat"
   ]
  },
  {
   "cell_type": "markdown",
   "metadata": {},
   "source": [
    "Lets plot our distribution at the last step."
   ]
  },
  {
   "cell_type": "code",
   "execution_count": 26,
   "metadata": {},
   "outputs": [
    {
     "data": {
      "text/plain": [
       "<matplotlib.text.Text at 0x7f0c2a9037b8>"
      ]
     },
     "execution_count": 26,
     "metadata": {},
     "output_type": "execute_result"
    },
    {
     "data": {
      "image/png": "[encoded data removed]",
      "text/plain": [
       "<matplotlib.figure.Figure at 0x7f0c2a975400>"
      ]
     },
     "metadata": {},
     "output_type": "display_data"
    }
   ],
   "source": [
    "plt.bar(np.arange(n_nodes), frequencies[-1])\n",
    "plt.xlabel(\"node\")\n",
    "plt.ylabel(\"probability\")"
   ]
  },
  {
   "cell_type": "markdown",
   "metadata": {},
   "source": [
    "We see that the final disctribution is indeed uniform. Lets now plot how fast did the algorithm converge. For this we need to compute errors $||x_{t} - \\mu||_2^2$ at each iteration, where $x_{t}$ is a distribution at step $t$ and $\\mu$ is a uniforly distributed vector."
   ]
  },
  {
   "cell_type": "code",
   "execution_count": 27,
   "metadata": {
    "collapsed": true
   },
   "outputs": [],
   "source": [
    "errors = np.linalg.norm(frequencies - np.ones(n_nodes) / n_nodes, axis=1)"
   ]
  },
  {
   "cell_type": "markdown",
   "metadata": {},
   "source": [
    "Lets now plot how fast did the algorithm converge. We will use logarithmic scale on y-axis to be able to distinguish between sublinear and linear rates."
   ]
  },
  {
   "cell_type": "code",
   "execution_count": 28,
   "metadata": {},
   "outputs": [
    {
     "data": {
      "image/png": "[encoded data removed]",
      "text/plain": [
       "<matplotlib.figure.Figure at 0x7f0c2a7db5c0>"
      ]
     },
     "metadata": {},
     "output_type": "display_data"
    }
   ],
   "source": [
    "plt.semilogy(errors)\n",
    "plt.xlabel(\"iteration\")\n",
    "plt.ylabel(\"$||x_{t} - mu||_2^2$\")\n",
    "plt.show()"
   ]
  },
  {
   "cell_type": "code",
   "execution_count": null,
   "metadata": {
    "collapsed": true
   },
   "outputs": [],
   "source": []
  }
 ],
 "metadata": {
  "anaconda-cloud": {},
  "kernelspec": {
   "display_name": "Python 3",
   "language": "python",
   "name": "python3"
  },
  "language_info": {
   "codemirror_mode": {
    "name": "ipython",
    "version": 3
   },
   "file_extension": ".py",
   "mimetype": "text/x-python",
   "name": "python",
   "nbconvert_exporter": "python",
   "pygments_lexer": "ipython3",
   "version": "3.5.2"
  },
  "widgets": {
   "state": {
    "d2b2c3aea192430e81437f33ba0b0e69": {
     "views": [
      {
       "cell_index": 22
      }
     ]
    },
    "e4a6a7a70ccd42ddb112989c04f2ed3f": {
     "views": [
      {
       "cell_index": 18
      }
     ]
    }
   },
   "version": "1.2.0"
  }
 },
 "nbformat": 4,
 "nbformat_minor": 1
}
